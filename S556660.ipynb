{
 "cells": [
  {
   "cell_type": "markdown",
   "id": "2f418718-3bb7-45fc-9fdf-940d3f7e269e",
   "metadata": {},
   "source": [
    "Emily Zimmerman"
   ]
  },
  {
   "cell_type": "code",
   "execution_count": 6,
   "id": "bc3bbb7b-7841-40aa-8c74-308f314d29e9",
   "metadata": {},
   "outputs": [
    {
     "name": "stdout",
     "output_type": "stream",
     "text": [
      "*      *\n",
      "**    **\n",
      "***  ***\n",
      "********\n"
     ]
    }
   ],
   "source": [
    "for x in range(1,5):\n",
    "    if x == 1:\n",
    "        print('*      *')\n",
    "    if x == 2:\n",
    "        print('**    **')\n",
    "    if x == 3:\n",
    "        print('***  ***')\n",
    "    if x == 4:\n",
    "        print('********')"
   ]
  }
 ],
 "metadata": {
  "kernelspec": {
   "display_name": "Python 3 (ipykernel)",
   "language": "python",
   "name": "python3"
  },
  "language_info": {
   "codemirror_mode": {
    "name": "ipython",
    "version": 3
   },
   "file_extension": ".py",
   "mimetype": "text/x-python",
   "name": "python",
   "nbconvert_exporter": "python",
   "pygments_lexer": "ipython3",
   "version": "3.9.12"
  }
 },
 "nbformat": 4,
 "nbformat_minor": 5
}
